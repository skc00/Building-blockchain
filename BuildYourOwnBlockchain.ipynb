{
 "cells": [
  {
   "cell_type": "markdown",
   "metadata": {},
   "source": [
    "# Build Your Own Blockchain - The Basics\n",
    "\n",
    "This tutorial will walk you through the basics of how to build a blockchain from scratch. Focusing on the details of a concrete example will provide a deeper understanding of the strengths and limitations of blockchains. For a higher-level overview, I'd recommend [this excellent article from BitsOnBlocks](https://bitsonblocks.net/2015/09/09/a-gentle-introduction-to-blockchain-technology/)."
   ]
  },
  {
   "cell_type": "markdown",
   "metadata": {},
   "source": [
    "## Transactions, Validation, and updating system state\n",
    "At its core, a blockchain is a distributed database with a set of rules for verifying new additions to the database. We'll start off by tracking the accounts of two imaginary people: Alice and Bob, who will trade virtual money with each other.\n",
    "\n",
    "We'll need to create a transaction pool of incoming transactions, validate those transactions, and make them into a block."
   ]
  },
  {
   "cell_type": "markdown",
   "metadata": {},
   "source": [
    "We'll be using a [hash function](https://en.wikipedia.org/wiki/SHA-2) to create a 'fingerprint' for each of our transactions- this hash function links each of our blocks to each other. To make this easier to use, we'll define a helper function to wrap the [python hash function](https://docs.python.org/2/library/hashlib.html) that we're using. "
   ]
  },
  {
   "cell_type": "code",
   "execution_count": 1,
   "metadata": {
    "collapsed": true
   },
   "outputs": [],
   "source": [
    "import hashlib, json, sys\n",
    "\n",
    "def hashMe(msg=\"\"):\n",
    "    # For convenience, this is a helper function that wraps our hashing algorithm\n",
    "    if type(msg)!=str:\n",
    "        msg = json.dumps(msg,sort_keys=True)  # If we don't sort keys, we can't guarantee repeatability!\n",
    "        \n",
    "    if sys.version_info.major == 2:\n",
    "        return unicode(hashlib.sha256(msg).hexdigest(),'utf-8')\n",
    "    else:\n",
    "        return hashlib.sha256(str(msg).encode('utf-8')).hexdigest()"
   ]
  },
  {
   "cell_type": "markdown",
   "metadata": {},
   "source": [
    "Next, we want to create a function to generate exchanges between Alice and Bob. We'll indicate withdrawals with negative numbers, and deposits with positive numbers. We'll construct our transactions to always be between the two users of our system, and make sure that the deposit is the same magnitude as the withdrawal- i.e. that we're neither creating nor destroying money."
   ]
  },
  {
   "cell_type": "code",
   "execution_count": 2,
   "metadata": {
    "collapsed": true
   },
   "outputs": [],
   "source": [
    "import random\n",
    "random.seed(0)\n",
    "\n",
    "def makeTransaction(maxValue=3):\n",
    "    # This will create valid transactions in the range of (1,maxValue)\n",
    "    sign      = int(random.getrandbits(1))*2 - 1   # This will randomly choose -1 or 1\n",
    "    amount    = random.randint(1,maxValue)\n",
    "    alicePays = sign * amount\n",
    "    bobPays   = -1 * alicePays\n",
    "    # By construction, this will always return transactions that respect the conservation of tokens.\n",
    "    # However, note that we have not done anything to check whether these overdraft an account\n",
    "    return {u'Alice':alicePays,u'Bob':bobPays}"
   ]
  },
  {
   "cell_type": "markdown",
   "metadata": {},
   "source": [
    "Now let's create a large set of transactions, then chunk them into blocks. "
   ]
  },
  {
   "cell_type": "code",
   "execution_count": 3,
   "metadata": {
    "collapsed": true
   },
   "outputs": [],
   "source": [
    "txnBuffer = [makeTransaction() for i in range(30)]"
   ]
  },
  {
   "cell_type": "markdown",
   "metadata": {},
   "source": [
    "Next step: making our very own blocks!  We'll take the first *k* transactions from the transaction buffer, and turn them into a block. Before we do that, we need to define a method for checking the valididty of the transactions we've pulled into the block. \n",
    "\n",
    "For bitcoin, the validation function checks that the input values are valid unspent transaction outputs (UTXOs), that the outputs of the transaction are no greater than the input, and that the keys used for the signatures are valid. In Ethereum, the validation function checks that the smart contracts were faithfully executed and respect gas limits.\n",
    "\n",
    "No worries, though- we don't have to build a system that complicated. We'll define our own, very simple set of rules which make sense for a basic token system:\n",
    "- The sum of deposits and withdrawals must be 0 (tokens are neither created nor destroyed)\n",
    "- A user's account must have sufficient funds to cover any withdrawals\n",
    "\n",
    "If either of these conditions are violated, we'll reject the transaction."
   ]
  },
  {
   "cell_type": "code",
   "execution_count": 4,
   "metadata": {
    "collapsed": true
   },
   "outputs": [],
   "source": [
    "def updateState(txn, state):\n",
    "    # Inputs: txn, state: dictionaries keyed with account names, holding numeric values for transfer amount (txn) or account balance (state)\n",
    "    # Returns: Updated state, with additional users added to state if necessary\n",
    "    # NOTE: This does not not validate the transaction- just updates the state!\n",
    "    \n",
    "    # If the transaction is valid, then update the state\n",
    "    state = state.copy() # As dictionaries are mutable, let's avoid any confusion by creating a working copy of the data.\n",
    "    for key in txn:\n",
    "        if key in state.keys():\n",
    "            state[key] += txn[key]\n",
    "        else:\n",
    "            state[key] = txn[key]\n",
    "    return state"
   ]
  },
  {
   "cell_type": "code",
   "execution_count": 5,
   "metadata": {
    "collapsed": true
   },
   "outputs": [],
   "source": [
    "def isValidTxn(txn,state):\n",
    "    # Assume that the transaction is a dictionary keyed by account names\n",
    "\n",
    "    # Check that the sum of the deposits and withdrawals is 0\n",
    "    if sum(txn.values()) is not 0:\n",
    "        return False\n",
    "    \n",
    "    # Check that the transaction does not cause an overdraft\n",
    "    for key in txn.keys():\n",
    "        if key in state.keys(): \n",
    "            acctBalance = state[key]\n",
    "        else:\n",
    "            acctBalance = 0\n",
    "        if (acctBalance + txn[key]) < 0:\n",
    "            return False\n",
    "    \n",
    "    return True"
   ]
  },
  {
   "cell_type": "markdown",
   "metadata": {},
   "source": [
    "Here are a set of sample transactions, some of which are fraudulent- but we can now check their validity!"
   ]
  },
  {
   "cell_type": "code",
   "execution_count": 6,
   "metadata": {},
   "outputs": [
    {
     "name": "stdout",
     "output_type": "stream",
     "text": [
      "True\n",
      "False\n",
      "False\n",
      "True\n",
      "False\n"
     ]
    }
   ],
   "source": [
    "state = {u'Alice':5,u'Bob':5}\n",
    "\n",
    "print(isValidTxn({u'Alice': -3, u'Bob': 3},state))  # Basic transaction- this works great!\n",
    "print(isValidTxn({u'Alice': -4, u'Bob': 3},state))  # But we can't create or destroy tokens!\n",
    "print(isValidTxn({u'Alice': -6, u'Bob': 6},state))  # We also can't overdraft our account.\n",
    "print(isValidTxn({u'Alice': -4, u'Bob': 2,'Lisa':2},state)) # Creating new users is valid\n",
    "print(isValidTxn({u'Alice': -4, u'Bob': 3,'Lisa':2},state)) # But the same rules still apply!"
   ]
  },
  {
   "cell_type": "markdown",
   "metadata": {
    "collapsed": true
   },
   "source": [
    "Each block contains a batch of transactions, a reference to the hash of the previous block (if block number is greater than 1), and a hash of its contents and the header"
   ]
  },
  {
   "cell_type": "markdown",
   "metadata": {},
   "source": [
    "## Building the Blockchain: From Transactions to Blocks"
   ]
  },
  {
   "cell_type": "markdown",
   "metadata": {},
   "source": [
    "We're ready to start making our blockchain! Right now, there's nothing on the blockchain, but we can get things started by defining the 'genesis block' (the first block in the system). Because the genesis block isn't linked to any prior block, it gets treated a bit differently, and we can arbitrarily set the system state. In our case, we'll create accounts for our two users (Alice and Bob) and give them 50 coins each."
   ]
  },
  {
   "cell_type": "code",
   "execution_count": 7,
   "metadata": {
    "collapsed": true
   },
   "outputs": [],
   "source": [
    "state = {u'Alice':50, u'Bob':50}  # Define the initial state\n",
    "genesisBlockTxns = [state]\n",
    "genesisBlockContents = {u'blockNumber':0,u'parentHash':None,u'txnCount':1,u'txns':genesisBlockTxns}\n",
    "genesisHash = hashMe( genesisBlockContents )\n",
    "genesisBlock = {u'hash':genesisHash,u'contents':genesisBlockContents}\n",
    "genesisBlockStr = json.dumps(genesisBlock, sort_keys=True)"
   ]
  },
  {
   "cell_type": "markdown",
   "metadata": {},
   "source": [
    "Great! This becomes the first element from which everything else will be linked."
   ]
  },
  {
   "cell_type": "code",
   "execution_count": 8,
   "metadata": {
    "collapsed": true
   },
   "outputs": [],
   "source": [
    "chain = [genesisBlock]"
   ]
  },
  {
   "cell_type": "markdown",
   "metadata": {},
   "source": [
    "For each block, we want to collect a set of transactions, create a header, hash it, and add it to the chain"
   ]
  },
  {
   "cell_type": "code",
   "execution_count": 9,
   "metadata": {
    "collapsed": true
   },
   "outputs": [],
   "source": [
    "def makeBlock(txns,chain):\n",
    "    parentBlock = chain[-1]\n",
    "    parentHash  = parentBlock[u'hash']\n",
    "    blockNumber = parentBlock[u'contents'][u'blockNumber'] + 1\n",
    "    txnCount    = len(txns)\n",
    "    blockContents = {u'blockNumber':blockNumber,u'parentHash':parentHash,\n",
    "                     u'txnCount':len(txns),'txns':txns}\n",
    "    blockHash = hashMe( blockContents )\n",
    "    block = {u'hash':blockHash,u'contents':blockContents}\n",
    "    \n",
    "    return block"
   ]
  },
  {
   "cell_type": "markdown",
   "metadata": {},
   "source": [
    "Let's use this to process our transaction buffer into a set of blocks:"
   ]
  },
  {
   "cell_type": "code",
   "execution_count": 10,
   "metadata": {
    "collapsed": true
   },
   "outputs": [],
   "source": [
    "blockSizeLimit = 5  # Arbitrary number of transactions per block- \n",
    "               #  this is chosen by the block miner, and can vary between blocks!\n",
    "\n",
    "while len(txnBuffer) > 0:\n",
    "    bufferStartSize = len(txnBuffer)\n",
    "    \n",
    "    ## Gather a set of valid transactions for inclusion\n",
    "    txnList = []\n",
    "    while (len(txnBuffer) > 0) & (len(txnList) < blockSizeLimit):\n",
    "        newTxn = txnBuffer.pop()\n",
    "        validTxn = isValidTxn(newTxn,state) # This will return False if txn is invalid\n",
    "        \n",
    "        if validTxn:           # If we got a valid state, not 'False'\n",
    "            txnList.append(newTxn)\n",
    "            state = updateState(newTxn,state)\n",
    "        else:\n",
    "            print(\"ignored transaction\")\n",
    "            sys.stdout.flush()\n",
    "            continue  # This was an invalid transaction; ignore it and move on\n",
    "        \n",
    "    ## Make a block\n",
    "    myBlock = makeBlock(txnList,chain)\n",
    "    chain.append(myBlock)    "
   ]
  },
  {
   "cell_type": "code",
   "execution_count": 11,
   "metadata": {},
   "outputs": [
    {
     "data": {
      "text/plain": [
       "{'contents': {'blockNumber': 0,\n",
       "  'parentHash': None,\n",
       "  'txnCount': 1,\n",
       "  'txns': [{'Alice': 50, 'Bob': 50}]},\n",
       " 'hash': '7c88a4312054f89a2b73b04989cd9b9e1ae437e1048f89fbb4e18a08479de507'}"
      ]
     },
     "execution_count": 11,
     "metadata": {},
     "output_type": "execute_result"
    }
   ],
   "source": [
    "chain[0]"
   ]
  },
  {
   "cell_type": "code",
   "execution_count": 12,
   "metadata": {},
   "outputs": [
    {
     "data": {
      "text/plain": [
       "{'contents': {'blockNumber': 1,\n",
       "  'parentHash': '7c88a4312054f89a2b73b04989cd9b9e1ae437e1048f89fbb4e18a08479de507',\n",
       "  'txnCount': 5,\n",
       "  'txns': [{'Alice': 3, 'Bob': -3},\n",
       "   {'Alice': -1, 'Bob': 1},\n",
       "   {'Alice': 3, 'Bob': -3},\n",
       "   {'Alice': -2, 'Bob': 2},\n",
       "   {'Alice': 3, 'Bob': -3}]},\n",
       " 'hash': '7a91fc8206c5351293fd11200b33b7192e87fad6545504068a51aba868bc6f72'}"
      ]
     },
     "execution_count": 12,
     "metadata": {},
     "output_type": "execute_result"
    }
   ],
   "source": [
    "chain[1]"
   ]
  },
  {
   "cell_type": "markdown",
   "metadata": {},
   "source": [
    "As expected, the genesis block includes an invalid transaction which initiates account balances (creating tokens out of thin air). The hash of the parent block is referenced in the child block, which contains a set of new transactions which affect system state. We can now see the state of the system, updated to include the transactions:"
   ]
  },
  {
   "cell_type": "code",
   "execution_count": 13,
   "metadata": {},
   "outputs": [
    {
     "data": {
      "text/plain": [
       "{'Alice': 72, 'Bob': 28}"
      ]
     },
     "execution_count": 13,
     "metadata": {},
     "output_type": "execute_result"
    }
   ],
   "source": [
    "state"
   ]
  },
  {
   "cell_type": "markdown",
   "metadata": {},
   "source": [
    "## Checking Chain Validity\n",
    "\n",
    "Now that we know how to create new blocks and link them together into a chain, let's define functions to check that new blocks are valid- and that the whole chain is valid.\n",
    "\n",
    "On a blockchain network, this becomes important in two ways:\n",
    "- When we initially set up our node, we will download the full blockchain history. After downloading the chain, we would need to run through the blockchain to compute the state of the system. To protect against somebody inserting invalid transactions in the initial chain, we need to check the validity of the entire chain in this initial download.\n",
    "- Once our node is synced with the network (has an up-to-date copy of the blockchain and a representation of system state) it will need to check the validity of new blocks that are broadcast to the network. \n",
    "\n",
    "We will need three functions to facilitate in this:\n",
    "- **checkBlockHash**: A simple helper function that makes sure that the block contents match the hash\n",
    "- **checkBlockValidity**: Checks the validity of a block, given its parent and the current system state. We want this to return the updated state if the block is valid, and raise an error otherwise.\n",
    "- **checkChain**: Check the validity of the entire chain, and compute the system state beginning at the genesis block. This will return the system state if the chain is valid, and raise an error otherwise.\n"
   ]
  },
  {
   "cell_type": "code",
   "execution_count": 14,
   "metadata": {
    "collapsed": true
   },
   "outputs": [],
   "source": [
    "def checkBlockHash(block):\n",
    "    # Raise an exception if the hash does not match the block contents\n",
    "    expectedHash = hashMe( block['contents'] )\n",
    "    if block['hash']!=expectedHash:\n",
    "        raise Exception('Hash does not match contents of block %s'%\n",
    "                        block['contents']['blockNumber'])\n",
    "    return"
   ]
  },
  {
   "cell_type": "code",
   "execution_count": 15,
   "metadata": {
    "collapsed": true
   },
   "outputs": [],
   "source": [
    "def checkBlockValidity(block,parent,state):    \n",
    "    # We want to check the following conditions:\n",
    "    # - Each of the transactions are valid updates to the system state\n",
    "    # - Block hash is valid for the block contents\n",
    "    # - Block number increments the parent block number by 1\n",
    "    # - Accurately references the parent block's hash\n",
    "    parentNumber = parent['contents']['blockNumber']\n",
    "    parentHash   = parent['hash']\n",
    "    blockNumber  = block['contents']['blockNumber']\n",
    "    \n",
    "    # Check transaction validity; throw an error if an invalid transaction was found.\n",
    "    for txn in block['contents']['txns']:\n",
    "        if isValidTxn(txn,state):\n",
    "            state = updateState(txn,state)\n",
    "        else:\n",
    "            raise Exception('Invalid transaction in block %s: %s'%(blockNumber,txn))\n",
    "\n",
    "    checkBlockHash(block) # Check hash integrity; raises error if inaccurate\n",
    "\n",
    "    if blockNumber!=(parentNumber+1):\n",
    "        raise Exception('Hash does not match contents of block %s'%blockNumber)\n",
    "\n",
    "    if block['contents']['parentHash'] != parentHash:\n",
    "        raise Exception('Parent hash not accurate at block %s'%blockNumber)\n",
    "    \n",
    "    return state"
   ]
  },
  {
   "cell_type": "code",
   "execution_count": 16,
   "metadata": {
    "collapsed": true
   },
   "outputs": [],
   "source": [
    "def checkChain(chain):\n",
    "    # Work through the chain from the genesis block (which gets special treatment), \n",
    "    #  checking that all transactions are internally valid,\n",
    "    #    that the transactions do not cause an overdraft,\n",
    "    #    and that the blocks are linked by their hashes.\n",
    "    # This returns the state as a dictionary of accounts and balances,\n",
    "    #   or returns False if an error was detected\n",
    "\n",
    "    \n",
    "    ## Data input processing: Make sure that our chain is a list of dicts\n",
    "    if type(chain)==str:\n",
    "        try:\n",
    "            chain = json.loads(chain)\n",
    "            assert( type(chain)==list)\n",
    "        except:  # This is a catch-all, admittedly crude\n",
    "            return False\n",
    "    elif type(chain)!=list:\n",
    "        return False\n",
    "    \n",
    "    state = {}\n",
    "    ## Prime the pump by checking the genesis block\n",
    "    # We want to check the following conditions:\n",
    "    # - Each of the transactions are valid updates to the system state\n",
    "    # - Block hash is valid for the block contents\n",
    "\n",
    "    for txn in chain[0]['contents']['txns']:\n",
    "        state = updateState(txn,state)\n",
    "    checkBlockHash(chain[0])\n",
    "    parent = chain[0]\n",
    "    \n",
    "    ## Checking subsequent blocks: These additionally need to check\n",
    "    #    - the reference to the parent block's hash\n",
    "    #    - the validity of the block number\n",
    "    for block in chain[1:]:\n",
    "        state = checkBlockValidity(block,parent,state)\n",
    "        parent = block\n",
    "        \n",
    "    return state"
   ]
  },
  {
   "cell_type": "markdown",
   "metadata": {},
   "source": [
    "We can now check the validity of the state:"
   ]
  },
  {
   "cell_type": "code",
   "execution_count": 17,
   "metadata": {},
   "outputs": [
    {
     "data": {
      "text/plain": [
       "{'Alice': 72, 'Bob': 28}"
      ]
     },
     "execution_count": 17,
     "metadata": {},
     "output_type": "execute_result"
    }
   ],
   "source": [
    "checkChain(chain)"
   ]
  },
  {
   "cell_type": "markdown",
   "metadata": {},
   "source": [
    "And even if we are loading the chain from a text file, e.g. from backup or loading it for the first time, we can check the integrity of the chain and create the current state:"
   ]
  },
  {
   "cell_type": "code",
   "execution_count": 18,
   "metadata": {},
   "outputs": [
    {
     "data": {
      "text/plain": [
       "{'Alice': 72, 'Bob': 28}"
      ]
     },
     "execution_count": 18,
     "metadata": {},
     "output_type": "execute_result"
    }
   ],
   "source": [
    "chainAsText = json.dumps(chain,sort_keys=True)\n",
    "checkChain(chainAsText)"
   ]
  },
  {
   "cell_type": "markdown",
   "metadata": {},
   "source": [
    "## Putting it together: The final Blockchain Architecture\n",
    "In an actual blockchain network, new nodes would download a copy of the blockchain and verify it (as we just did above), then announce their presence on the peer-to-peer network and start listening for transactions. Bundling transactions into a block, they then pass their proposed block on to other nodes.\n",
    "\n",
    "We've seen how to verify a copy of the blockchain, and how to bundle transactions into a block.  If we recieve a block from somewhere else, verifying it and adding it to our blockchain is easy.\n",
    "\n",
    "Let's say that the following code runs on Node A, which mines the block:"
   ]
  },
  {
   "cell_type": "code",
   "execution_count": 19,
   "metadata": {
    "collapsed": true
   },
   "outputs": [],
   "source": [
    "import copy\n",
    "nodeBchain = copy.copy(chain)\n",
    "nodeBtxns  = [makeTransaction() for i in range(5)]\n",
    "newBlock   = makeBlock(nodeBtxns,nodeBchain)"
   ]
  },
  {
   "cell_type": "markdown",
   "metadata": {},
   "source": [
    "Now assume that the `newBlock` is transmitted to our node, and we want to check it and update our state if it is a valid block:"
   ]
  },
  {
   "cell_type": "code",
   "execution_count": 20,
   "metadata": {},
   "outputs": [
    {
     "name": "stdout",
     "output_type": "stream",
     "text": [
      "Blockchain on Node A is currently 7 blocks long\n",
      "New Block Received; checking validity...\n",
      "Blockchain on Node A is now 8 blocks long\n"
     ]
    }
   ],
   "source": [
    "print(\"Blockchain on Node A is currently %s blocks long\"%len(chain))\n",
    "\n",
    "try:\n",
    "    print(\"New Block Received; checking validity...\")\n",
    "    state = checkBlockValidity(newBlock,chain[-1],state) # Update the state- this will throw an error if the block is invalid!\n",
    "    chain.append(newBlock)\n",
    "except:\n",
    "    print(\"Invalid block; ignoring and waiting for the next block...\")\n",
    "\n",
    "print(\"Blockchain on Node A is now %s blocks long\"%len(chain))"
   ]
  },
  {
   "cell_type": "markdown",
   "metadata": {},
   "source": [
    "# Conclusions and Extensions\n",
    "We've created all the basic architecture for a blockchain, from a set of state transition rules to a method for creating blocks, to mechanisms for checking the validity of transactions, blocks, and the full chain. We can derive the system state from a downloaded copy of the blockchain, validate new blocks that we recieve from the network, and create our own blocks.\n",
    "\n",
    "The system state that we've created is effectively a distributed ledger or database- the core of many blockchains. We could extend this to include special transaction types or full smart contracts.\n",
    "\n",
    "We haven't explored the network architecture, the proof-of-work or proof-of-state validation step, and the consensus mechanism which provides blockchains with security against attack. We also haven't discussed public key cryptography, privacy, and verification steps. More on that in the future!"
   ]
  },
  {
   "cell_type": "code",
   "execution_count": null,
   "metadata": {
    "collapsed": true
   },
   "outputs": [],
   "source": []
  },
  {
   "cell_type": "code",
   "execution_count": null,
   "metadata": {
    "collapsed": true
   },
   "outputs": [],
   "source": []
  }
 ],
 "metadata": {
  "kernelspec": {
   "display_name": "Python 3",
   "language": "python",
   "name": "python3"
  },
  "language_info": {
   "codemirror_mode": {
    "name": "ipython",
    "version": 3
   },
   "file_extension": ".py",
   "mimetype": "text/x-python",
   "name": "python",
   "nbconvert_exporter": "python",
   "pygments_lexer": "ipython3",
   "version": "3.6.1"
  }
 },
 "nbformat": 4,
 "nbformat_minor": 1
}
